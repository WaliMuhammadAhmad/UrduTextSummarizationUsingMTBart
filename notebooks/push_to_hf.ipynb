{
  "cells": [
    {
      "cell_type": "code",
      "execution_count": 27,
      "metadata": {
        "colab": {
          "base_uri": "https://localhost:8080/"
        },
        "id": "0D8gUHydnFBJ",
        "outputId": "0715e92d-2191-4374-8b3b-0321a2361222"
      },
      "outputs": [
        {
          "name": "stdout",
          "output_type": "stream",
          "text": [
            "Requirement already satisfied: huggingface_hub in /usr/local/lib/python3.10/dist-packages (0.24.6)\n",
            "Requirement already satisfied: filelock in /usr/local/lib/python3.10/dist-packages (from huggingface_hub) (3.15.4)\n",
            "Requirement already satisfied: fsspec>=2023.5.0 in /usr/local/lib/python3.10/dist-packages (from huggingface_hub) (2024.6.1)\n",
            "Requirement already satisfied: packaging>=20.9 in /usr/local/lib/python3.10/dist-packages (from huggingface_hub) (24.1)\n",
            "Requirement already satisfied: pyyaml>=5.1 in /usr/local/lib/python3.10/dist-packages (from huggingface_hub) (6.0.2)\n",
            "Requirement already satisfied: requests in /usr/local/lib/python3.10/dist-packages (from huggingface_hub) (2.32.3)\n",
            "Requirement already satisfied: tqdm>=4.42.1 in /usr/local/lib/python3.10/dist-packages (from huggingface_hub) (4.66.5)\n",
            "Requirement already satisfied: typing-extensions>=3.7.4.3 in /usr/local/lib/python3.10/dist-packages (from huggingface_hub) (4.12.2)\n",
            "Requirement already satisfied: charset-normalizer<4,>=2 in /usr/local/lib/python3.10/dist-packages (from requests->huggingface_hub) (3.3.2)\n",
            "Requirement already satisfied: idna<4,>=2.5 in /usr/local/lib/python3.10/dist-packages (from requests->huggingface_hub) (3.8)\n",
            "Requirement already satisfied: urllib3<3,>=1.21.1 in /usr/local/lib/python3.10/dist-packages (from requests->huggingface_hub) (2.2.2)\n",
            "Requirement already satisfied: certifi>=2017.4.17 in /usr/local/lib/python3.10/dist-packages (from requests->huggingface_hub) (2024.7.4)\n"
          ]
        }
      ],
      "source": [
        "%pip install -U huggingface_hub"
      ]
    },
    {
      "cell_type": "code",
      "execution_count": 13,
      "metadata": {
        "id": "qfRoZP74urcc"
      },
      "outputs": [],
      "source": [
        "from huggingface_hub import HfApi, ModelCard, ModelCardData, User, login\n",
        "from getpass import getpass\n",
        "from datetime import datetime\n",
        "import os"
      ]
    },
    {
      "cell_type": "code",
      "execution_count": null,
      "metadata": {
        "colab": {
          "base_uri": "https://localhost:8080/"
        },
        "id": "tF27fjn-8fjT",
        "outputId": "41996af0-bfa4-4dcb-d8c8-6dc1f22c41fa"
      },
      "outputs": [
        {
          "name": "stdout",
          "output_type": "stream",
          "text": [
            "Token is valid (permission: write).\n",
            "Your token has been saved in your configured git credential helpers (manager).\n",
            "Your token has been saved to C:\\Users\\walim\\.cache\\huggingface\\token\n",
            "Login successful\n"
          ]
        }
      ],
      "source": [
        "os.environ[\"HF_TOKEN\"] = getpass(\"Enter your Hugging Face token: \")\n",
        "login(token=os.environ[\"HF_TOKEN\"], add_to_git_credential=True)"
      ]
    },
    {
      "cell_type": "code",
      "execution_count": 4,
      "metadata": {
        "id": "2Fv5Ui0e8qyu"
      },
      "outputs": [],
      "source": [
        "model_name = \"MBart-Urdu-Text-Summarization\"\n",
        "model_dir = \"ckpt\""
      ]
    },
    {
      "cell_type": "code",
      "execution_count": 7,
      "metadata": {},
      "outputs": [],
      "source": [
        "api = HfApi()\n",
        "repo = api.create_repo(\n",
        "    repo_id=model_name,\n",
        "    repo_type=\"model\",\n",
        "    exist_ok=True,\n",
        ")"
      ]
    },
    {
      "cell_type": "code",
      "execution_count": 8,
      "metadata": {},
      "outputs": [
        {
          "data": {
            "text/plain": [
              "RepoUrl('https://huggingface.co/iHateNLP/MBart-Urdu-Text-Summarization', endpoint='https://huggingface.co', repo_type='model', repo_id='iHateNLP/MBart-Urdu-Text-Summarization')"
            ]
          },
          "execution_count": 8,
          "metadata": {},
          "output_type": "execute_result"
        }
      ],
      "source": [
        "repo"
      ]
    },
    {
      "cell_type": "code",
      "execution_count": 11,
      "metadata": {
        "colab": {
          "base_uri": "https://localhost:8080/"
        },
        "id": "sG25msM28jcg",
        "outputId": "3098c586-0c06-4089-b508-19b73918663d"
      },
      "outputs": [
        {
          "data": {
            "text/plain": [
              "CommitInfo(commit_url='https://huggingface.co/iHateNLP/MBart-Urdu-Text-Summarization/commit/21a100bfb3c9cd138a83cb53e71c7dd89cdd3e17', commit_message='Upload folder using huggingface_hub', commit_description='', oid='21a100bfb3c9cd138a83cb53e71c7dd89cdd3e17', pr_url=None, pr_revision=None, pr_num=None)"
            ]
          },
          "execution_count": 11,
          "metadata": {},
          "output_type": "execute_result"
        }
      ],
      "source": [
        "api.upload_folder(\n",
        "    folder_path=model_dir,\n",
        "    repo_id=repo.repo_id,\n",
        "    repo_type=repo.repo_type,\n",
        ")"
      ]
    },
    {
      "cell_type": "code",
      "execution_count": 27,
      "metadata": {},
      "outputs": [
        {
          "data": {
            "text/plain": [
              "{'base_model': None, 'datasets': None, 'eval_results': None, 'language': None, 'library_name': 'transformers', 'license': 'apache-2.0', 'license_name': None, 'license_link': None, 'metrics': None, 'model_name': 'MBart-Urdu-Text-Summarization', 'pipeline_tag': 'text-generation', 'tags': ['text-generation', 'mbart', 'nlp', 'transformers'], 'author': 'Wali Muhammad Ahmad', 'private': False, 'gated': False, 'inference': True, 'mask_token': '<mask>', 'widget_data': {'text': 'Enter your para here'}, 'transformers_info': {'auto_class': 'MBartForConditionalGeneration', 'processor': 'AutoTokenizer'}}"
            ]
          },
          "execution_count": 27,
          "metadata": {},
          "output_type": "execute_result"
        }
      ],
      "source": [
        "model_card_data = ModelCardData(\n",
        "    license=\"apache-2.0\",\n",
        "    tags=[\"text-generation\", \"mbart\", \"nlp\", \"transformers\"],\n",
        "    pipeline_tag=\"text-generation\",\n",
        "    library_name=\"transformers\",\n",
        "    model_name=model_name,\n",
        "    author=\"Wali Muhammad Ahmad\",\n",
        "    private=False,\n",
        "    gated=False,\n",
        "    inference=True,\n",
        "    mask_token=\"<mask>\",\n",
        "    widget_data={\"text\": \"Enter your para here\"},\n",
        "    transformers_info={\n",
        "        \"auto_class\": \"MBartForConditionalGeneration\",\n",
        "        \"processor\": \"AutoTokenizer\",\n",
        "    },\n",
        ")\n",
        "\n",
        "card = ModelCard.from_template(model_card_data)\n",
        "card.data"
      ]
    },
    {
      "cell_type": "code",
      "execution_count": 28,
      "metadata": {},
      "outputs": [
        {
          "data": {
            "text/plain": [
              "CommitInfo(commit_url='https://huggingface.co/iHateNLP/MBart-Urdu-Text-Summarization/commit/70708ba0b56ceb6b3ab1b9097400325bd5eeb13b', commit_message='Upload README.md with huggingface_hub', commit_description='', oid='70708ba0b56ceb6b3ab1b9097400325bd5eeb13b', pr_url=None, pr_revision=None, pr_num=None)"
            ]
          },
          "execution_count": 28,
          "metadata": {},
          "output_type": "execute_result"
        }
      ],
      "source": [
        "card.push_to_hub(repo.repo_id)"
      ]
    },
    {
      "cell_type": "code",
      "execution_count": 33,
      "metadata": {
        "id": "a9HMvzBmB7b2"
      },
      "outputs": [],
      "source": [
        "# !rm -r model_dir"
      ]
    }
  ],
  "metadata": {
    "colab": {
      "authorship_tag": "ABX9TyP3ds9+Ag2OH4K1pnu3bz7e",
      "include_colab_link": true,
      "provenance": []
    },
    "kernelspec": {
      "display_name": "Python 3",
      "name": "python3"
    },
    "language_info": {
      "codemirror_mode": {
        "name": "ipython",
        "version": 3
      },
      "file_extension": ".py",
      "mimetype": "text/x-python",
      "name": "python",
      "nbconvert_exporter": "python",
      "pygments_lexer": "ipython3",
      "version": "3.12.5"
    }
  },
  "nbformat": 4,
  "nbformat_minor": 0
}
